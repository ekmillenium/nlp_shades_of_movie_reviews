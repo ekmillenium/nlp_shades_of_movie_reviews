{
 "cells": [
  {
   "cell_type": "code",
   "execution_count": 1,
   "id": "557caafe",
   "metadata": {
    "ExecuteTime": {
     "end_time": "2023-03-14T09:01:40.390888Z",
     "start_time": "2023-03-14T09:01:40.374305Z"
    }
   },
   "outputs": [],
   "source": [
    "%load_ext autoreload\n",
    "%autoreload 2"
   ]
  },
  {
   "cell_type": "code",
   "execution_count": 2,
   "id": "44528215",
   "metadata": {
    "ExecuteTime": {
     "end_time": "2023-03-14T09:01:40.611759Z",
     "start_time": "2023-03-14T09:01:40.394226Z"
    }
   },
   "outputs": [],
   "source": [
    "from scraping.scraper import MovieScrapper"
   ]
  },
  {
   "cell_type": "code",
   "execution_count": 3,
   "id": "d0290f7c",
   "metadata": {
    "ExecuteTime": {
     "end_time": "2023-03-14T09:01:55.018265Z",
     "start_time": "2023-03-14T09:01:40.617932Z"
    },
    "scrolled": true
   },
   "outputs": [],
   "source": [
    "scraper = MovieScrapper(browser= \"chrome\", _id= \"tt1630029\")"
   ]
  },
  {
   "cell_type": "code",
   "execution_count": 7,
   "id": "74e53386",
   "metadata": {
    "ExecuteTime": {
     "end_time": "2023-03-14T09:02:00.724665Z",
     "start_time": "2023-03-14T09:02:00.704134Z"
    }
   },
   "outputs": [
    {
     "data": {
      "text/plain": [
       "50"
      ]
     },
     "execution_count": 7,
     "metadata": {},
     "output_type": "execute_result"
    }
   ],
   "source": [
    "reviews = scraper.reviews\n",
    "len(reviews)"
   ]
  },
  {
   "cell_type": "code",
   "execution_count": 5,
   "id": "36b573f5",
   "metadata": {
    "ExecuteTime": {
     "end_time": "2023-03-14T09:01:55.062361Z",
     "start_time": "2023-03-14T09:01:55.046138Z"
    }
   },
   "outputs": [],
   "source": [
    "# Check if duplicate reviews\n",
    "def checkIfDuplicates_3(listOfElems):\n",
    "    ''' Check if given list contains any duplicates '''    \n",
    "    for elem in listOfElems:\n",
    "        if listOfElems.count(elem) > 1:\n",
    "            return True\n",
    "    return False"
   ]
  },
  {
   "cell_type": "code",
   "execution_count": 6,
   "id": "68c6c39b",
   "metadata": {
    "ExecuteTime": {
     "end_time": "2023-03-14T09:01:55.091923Z",
     "start_time": "2023-03-14T09:01:55.068356Z"
    }
   },
   "outputs": [
    {
     "data": {
      "text/plain": [
       "False"
      ]
     },
     "execution_count": 6,
     "metadata": {},
     "output_type": "execute_result"
    }
   ],
   "source": [
    "checkIfDuplicates_3(reviews)"
   ]
  }
 ],
 "metadata": {
  "kernelspec": {
   "display_name": "Python 3 (ipykernel)",
   "language": "python",
   "name": "python3"
  },
  "language_info": {
   "codemirror_mode": {
    "name": "ipython",
    "version": 3
   },
   "file_extension": ".py",
   "mimetype": "text/x-python",
   "name": "python",
   "nbconvert_exporter": "python",
   "pygments_lexer": "ipython3",
   "version": "3.10.6"
  },
  "toc": {
   "base_numbering": 1,
   "nav_menu": {},
   "number_sections": true,
   "sideBar": true,
   "skip_h1_title": false,
   "title_cell": "Table of Contents",
   "title_sidebar": "Contents",
   "toc_cell": false,
   "toc_position": {},
   "toc_section_display": true,
   "toc_window_display": false
  },
  "varInspector": {
   "cols": {
    "lenName": 16,
    "lenType": 16,
    "lenVar": 40
   },
   "kernels_config": {
    "python": {
     "delete_cmd_postfix": "",
     "delete_cmd_prefix": "del ",
     "library": "var_list.py",
     "varRefreshCmd": "print(var_dic_list())"
    },
    "r": {
     "delete_cmd_postfix": ") ",
     "delete_cmd_prefix": "rm(",
     "library": "var_list.r",
     "varRefreshCmd": "cat(var_dic_list()) "
    }
   },
   "types_to_exclude": [
    "module",
    "function",
    "builtin_function_or_method",
    "instance",
    "_Feature"
   ],
   "window_display": false
  }
 },
 "nbformat": 4,
 "nbformat_minor": 5
}

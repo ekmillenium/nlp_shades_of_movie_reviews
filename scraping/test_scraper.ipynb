{
 "cells": [
  {
   "cell_type": "code",
   "execution_count": 28,
   "id": "152d5fa3",
   "metadata": {
    "ExecuteTime": {
     "end_time": "2023-03-14T09:27:47.100972Z",
     "start_time": "2023-03-14T09:27:46.778927Z"
    }
   },
   "outputs": [
    {
     "name": "stdout",
     "output_type": "stream",
     "text": [
      "The autoreload extension is already loaded. To reload it, use:\n",
      "  %reload_ext autoreload\n"
     ]
    }
   ],
   "source": [
    "%load_ext autoreload\n",
    "%autoreload 2"
   ]
  },
  {
   "cell_type": "code",
   "execution_count": 30,
   "id": "cc5d9b7a",
   "metadata": {
    "ExecuteTime": {
     "end_time": "2023-03-14T09:27:51.683689Z",
     "start_time": "2023-03-14T09:27:51.664513Z"
    }
   },
   "outputs": [],
   "source": [
    "from scraping.scraper import MovieScrapper\n",
    "import pandas as pd"
   ]
  },
  {
   "cell_type": "code",
   "execution_count": 31,
   "id": "5ce0b0ff",
   "metadata": {
    "ExecuteTime": {
     "end_time": "2023-03-14T09:28:21.182607Z",
     "start_time": "2023-03-14T09:28:03.535319Z"
    },
    "scrolled": true
   },
   "outputs": [
    {
     "data": {
      "text/plain": [
       "[]"
      ]
     },
     "execution_count": 31,
     "metadata": {},
     "output_type": "execute_result"
    }
   ],
   "source": [
    "scraper = MovieScrapper(browser= \"chrome\", _id= \"tt0050083\")\n",
    "reviews, ratings = scraper.reviews\n",
    "ratings"
   ]
  },
  {
   "cell_type": "code",
   "execution_count": 33,
   "id": "49ee69fe",
   "metadata": {
    "ExecuteTime": {
     "end_time": "2023-03-14T09:40:12.089418Z",
     "start_time": "2023-03-14T09:40:12.065316Z"
    }
   },
   "outputs": [
    {
     "data": {
      "text/plain": [
       "'This once-in-a-generation masterpiece simply has no equal. The late 90\\'s TV remake was quite adequate though totally unnecessary and in the upshot proved simply that updating a film for updating\\'s sake is really an exercise in futility. Even had it BEEN as good - so what?There could be few, if ANY film-goers reading this who are unaware of the plotline and in any event many others have re-hashed this for you. The brilliance of the film is evident in so many aspects. To begin with, the ability to not only sustain interest but to command the viewer\\'s attention for basically its entire running time within a setting of principally just one room, borders on the inspired. Whether or not that would actually work with TODAY\\'S audiences is another discussion! What we have here are twelve everyday Mr Joe Blows, summoned together on a jury panel to decide a defendant\\'s guilt or innocence with regards to a murder charge. If you were to gather unto yourselves ANY twelve jurors at random, you would most likely be able to pinpoint the Henry Fonda, Lee Cobb, E. G. Marshall, Jack Warden etc etc amongst them! Their very \"ordinariness\" is where the film succeeded. Everyone can identify with at least ONE of those characters. Whether or not he may WANT to is a different matter. The thinker, the sensitive man, the arrogant bully, the opportunist, the mentally challenged loudmouth, the slimeball, the emotionally withdrawn, the sheep etc - they\\'re all here! Welcome to society folks! I dislike society in the main - doubtless a reason I found this film to be such a revelation..even when I was barely into my teens!12 ANGRY MEN also pinpoints the shortcomings of the law, how \"truth\" can be so intrinsically left-field and unintentionally flawed. Lumet, working within a minimal budget here, delivers unstinting brilliance in both direction, character portrayal and script interpretation. He had of course superb acting talent at his disposal although some of the most memorable performances are from the lesser players. Some have denounced Fonda\\'s role as being acceptable rather than awesome. I think however he was to a great degree playing himself here, not to an audience. His, is a study in deliberation and logic not show-pony stuff, but hell that never WAS Fonda was it?This is a great great movie, as is evidenced by the extremely high user-vote worldwide. IF you haven\\'t seen it - you really should do something about that!'"
      ]
     },
     "execution_count": 33,
     "metadata": {},
     "output_type": "execute_result"
    }
   ],
   "source": [
    "reviews[0]"
   ]
  },
  {
   "cell_type": "code",
   "execution_count": 5,
   "id": "ff03d2c4",
   "metadata": {
    "ExecuteTime": {
     "end_time": "2023-03-14T09:01:55.062361Z",
     "start_time": "2023-03-14T09:01:55.046138Z"
    }
   },
   "outputs": [],
   "source": [
    "# Check if duplicate reviews\n",
    "def checkIfDuplicates_3(listOfElems):\n",
    "    ''' Check if given list contains any duplicates '''    \n",
    "    for elem in listOfElems:\n",
    "        if listOfElems.count(elem) > 1:\n",
    "            return True\n",
    "    return False"
   ]
  },
  {
   "cell_type": "code",
   "execution_count": 13,
   "id": "6fd35dc8",
   "metadata": {
    "ExecuteTime": {
     "end_time": "2023-03-14T09:11:41.064451Z",
     "start_time": "2023-03-14T09:11:41.040693Z"
    }
   },
   "outputs": [
    {
     "data": {
      "text/plain": [
       "False"
      ]
     },
     "execution_count": 13,
     "metadata": {},
     "output_type": "execute_result"
    }
   ],
   "source": [
    "checkIfDuplicates_3(reviews)"
   ]
  }
 ],
 "metadata": {
  "kernelspec": {
   "display_name": "Python 3 (ipykernel)",
   "language": "python",
   "name": "python3"
  },
  "language_info": {
   "codemirror_mode": {
    "name": "ipython",
    "version": 3
   },
   "file_extension": ".py",
   "mimetype": "text/x-python",
   "name": "python",
   "nbconvert_exporter": "python",
   "pygments_lexer": "ipython3",
   "version": "3.10.6"
  },
  "toc": {
   "base_numbering": 1,
   "nav_menu": {},
   "number_sections": true,
   "sideBar": true,
   "skip_h1_title": false,
   "title_cell": "Table of Contents",
   "title_sidebar": "Contents",
   "toc_cell": false,
   "toc_position": {},
   "toc_section_display": true,
   "toc_window_display": false
  },
  "varInspector": {
   "cols": {
    "lenName": 16,
    "lenType": 16,
    "lenVar": 40
   },
   "kernels_config": {
    "python": {
     "delete_cmd_postfix": "",
     "delete_cmd_prefix": "del ",
     "library": "var_list.py",
     "varRefreshCmd": "print(var_dic_list())"
    },
    "r": {
     "delete_cmd_postfix": ") ",
     "delete_cmd_prefix": "rm(",
     "library": "var_list.r",
     "varRefreshCmd": "cat(var_dic_list()) "
    }
   },
   "types_to_exclude": [
    "module",
    "function",
    "builtin_function_or_method",
    "instance",
    "_Feature"
   ],
   "window_display": false
  }
 },
 "nbformat": 4,
 "nbformat_minor": 5
}
